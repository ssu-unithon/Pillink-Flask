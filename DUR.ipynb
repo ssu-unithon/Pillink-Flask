{
 "cells": [
  {
   "cell_type": "code",
   "execution_count": 104,
   "id": "eef31579",
   "metadata": {},
   "outputs": [],
   "source": [
    "####데이터 이상$$$$$$ 사용x\n",
    "#대조약 조회\n",
    "#약의 성분 추출\n",
    "import requests\n",
    "from urllib.parse import unquote\n",
    "\n",
    "SERVICE_KEY = \"YKH%2FsKWkIH6%2FFfZlcEhCFOL8m%2B2j2E802xPlLD2I1736c2gNNAuxZ99KawQt0XpAyBZ22o9LWQA1Piu8D1LTng%3D%3D\" \n",
    "serviceKey = unquote(SERVICE_KEY)  # 디코딩\n",
    "base_url = \"https://apis.data.go.kr/1471000/MdcCompDrugInfoService04\"\n",
    "endpoint = \"getMdcCompDrugList04\"\n",
    "\n",
    "def get_medicine_info_ingre(pill):\n",
    "    params = {\n",
    "        \"serviceKey\": serviceKey,\n",
    "        \"pageNo\": 1,\n",
    "        \"numOfRows\": 10,\n",
    "        \"type\": \"json\",\n",
    "        \"item_name\": pill,\n",
    "    }\n",
    "    url = f\"{base_url}/{endpoint}\"\n",
    "    res = requests.get(url, params=params)\n",
    "    result=res.json()\n",
    "\n",
    "    return result['body']"
   ]
  },
  {
   "cell_type": "code",
   "execution_count": 105,
   "id": "4d338cd6",
   "metadata": {},
   "outputs": [],
   "source": [
    "####데이터 이상$$$$$$ 사용x\n",
    "pill_ingre=set()  #모든 약의 성분 총 집합\n",
    "dupli=[]          #중복 약물\n",
    "\n",
    "for pill in medicine:\n",
    "    result=get_medicine_info_ingre(pill)  #약의 성분\n",
    "    \n",
    "    if 'items' in result:\n",
    "        ingredient=result['items'][0]['item']['INGR_NAME']\n",
    "        \n",
    "        #성분이 여러개인 경우\n",
    "        if \"/\" in ingredient:\n",
    "            n_ingre=ingredient.split(\"/\")\n",
    "            for n in n_ingre:\n",
    "                if n in pill_ingre:\n",
    "                    dupli.append(n)\n",
    "                pill_ingre.add(n)\n",
    "        \n",
    "        #단일 성분\n",
    "        else:\n",
    "            pill_ingre.add(ingredient)"
   ]
  },
  {
   "cell_type": "code",
   "execution_count": null,
   "id": "38654c63",
   "metadata": {},
   "outputs": [],
   "source": []
  },
  {
   "cell_type": "code",
   "execution_count": null,
   "id": "f584d700",
   "metadata": {},
   "outputs": [],
   "source": [
    "################## 여기부터 #####################"
   ]
  },
  {
   "cell_type": "code",
   "execution_count": 120,
   "id": "ccb331b8",
   "metadata": {},
   "outputs": [],
   "source": [
    "#사용자 복용 약 DB에서 가져오기\n",
    "medicine=['메토트렉세이트', '아스피린', '아스피린']"
   ]
  },
  {
   "cell_type": "code",
   "execution_count": 121,
   "id": "c7580f2c",
   "metadata": {},
   "outputs": [],
   "source": [
    "#병용금기 정보\n",
    "import requests\n",
    "from urllib.parse import unquote\n",
    "\n",
    "SERVICE_KEY = \"YKH%2FsKWkIH6%2FFfZlcEhCFOL8m%2B2j2E802xPlLD2I1736c2gNNAuxZ99KawQt0XpAyBZ22o9LWQA1Piu8D1LTng%3D%3D\" \n",
    "serviceKey = unquote(SERVICE_KEY)  \n",
    "base_url = \"https://apis.data.go.kr/1471000/DURIrdntInfoService03\"\n",
    "endpoint = \"getUsjntTabooInfoList02\"\n",
    "\n",
    "#INGR_CODE(주성분 코드), MIXTURE_INGR_CODE(상대 성분 코드)\n",
    "#ORI(원래 성분의 제품 목록), MIXTURE_ORI(상대 성분 제품 목록)\n",
    "#PROHBT_CONTENT(금기 이유)\n",
    "def contrain_ingre(ingredient):\n",
    "    params = {\n",
    "        \"serviceKey\": serviceKey,\n",
    "        \"pageNo\": 1,\n",
    "        \"numOfRows\": 10,\n",
    "        \"type\": \"json\",\n",
    "        \"ingrKorName\": ingredient,\n",
    "    }\n",
    "\n",
    "    url = f\"{base_url}/{endpoint}\"\n",
    "    res = requests.get(url, params=params)\n",
    "    result=res.json()\n",
    "    return result\n",
    "#result['body']"
   ]
  },
  {
   "cell_type": "code",
   "execution_count": 145,
   "id": "4cc7fda9",
   "metadata": {},
   "outputs": [],
   "source": [
    "#병용금기 성분\n",
    "contrain_list=[] #약 성분, 충돌 성분, 충돌 원인\n",
    "collision_set=set() #약 충돌 성분\n",
    "duplicate_set=set() #약 중복 성분\n",
    "\n",
    "for i in medicine:\n",
    "    result=contrain_ingre(i)  #약의 성분과의 충돌 성분, 충돌 원인\n",
    "    if 'items' in result['body']:\n",
    "        #충돌 성분\n",
    "        contrain=result['body']['items'][0]['item']['MIXTURE_INGR_KOR_NAME']\n",
    "        #충돌 원인\n",
    "        prohbt=result['body']['items'][0]['item']['PROHBT_CONTENT'].strip()\n",
    "        for ingre1, ingre2, w in contrain_list:\n",
    "            #충돌 성분\n",
    "            if ingre2 == contrain or ingre1 == contrain:\n",
    "                collision_set.add(contrain)\n",
    "            #중복 성분\n",
    "            if (i, contrain) in [(a, b) for a, b, _ in contrain_list]:\n",
    "                duplicate_set.add(i)\n",
    "        contrain_list.append((i,contrain,prohbt))\n",
    "\n",
    "#print(contrain_set)"
   ]
  },
  {
   "cell_type": "code",
   "execution_count": 154,
   "id": "518435a3",
   "metadata": {},
   "outputs": [
    {
     "data": {
      "text/plain": [
       "{('메토트렉세이트',\n",
       "  '[충돌 성분]',\n",
       "  '엽산 의존 대사 경로에서 구내염, 골수억제 및 신경독성과 같은 독성을 잠재적으로 유발하는 메토트렉세이트의 효과 증가'),\n",
       " ('아스피린', '[중복 성분]', '혈액학적 독성')}"
      ]
     },
     "execution_count": 154,
     "metadata": {},
     "output_type": "execute_result"
    }
   ],
   "source": [
    "#충돌 약(주의사항 출력할 내용)\n",
    "warning_set=set()\n",
    "\n",
    "for ingre1, ingre2, warn in contrain_list:\n",
    "    if ingre1 in duplicate_set:\n",
    "        warning_set.add((ingre1,\"[중복 성분]\", warn))\n",
    "    if ingre1 in collision_set:\n",
    "        warning_set.add((ingre1,\"[충돌 성분]\", warn))\n",
    "        \n",
    "warning_set"
   ]
  },
  {
   "cell_type": "code",
   "execution_count": 158,
   "id": "b521f29f",
   "metadata": {},
   "outputs": [],
   "source": [
    "#위험도 지수\n",
    "cnt=len(pill_ingre) #총 성분 수\n",
    "\n",
    "risk_rate=int((len(collision_set)+len(duplicate_set))/(cnt*(cnt-1)/2) * 100)"
   ]
  },
  {
   "cell_type": "code",
   "execution_count": 159,
   "id": "ce757899",
   "metadata": {},
   "outputs": [
    {
     "data": {
      "text/plain": [
       "66"
      ]
     },
     "execution_count": 159,
     "metadata": {},
     "output_type": "execute_result"
    }
   ],
   "source": [
    "risk_rate"
   ]
  },
  {
   "cell_type": "code",
   "execution_count": null,
   "id": "548b4414",
   "metadata": {},
   "outputs": [],
   "source": []
  }
 ],
 "metadata": {
  "kernelspec": {
   "display_name": "Python3",
   "language": "python",
   "name": "myenv"
  },
  "language_info": {
   "codemirror_mode": {
    "name": "ipython",
    "version": 3
   },
   "file_extension": ".py",
   "mimetype": "text/x-python",
   "name": "python",
   "nbconvert_exporter": "python",
   "pygments_lexer": "ipython3",
   "version": "3.11.5"
  }
 },
 "nbformat": 4,
 "nbformat_minor": 5
}
