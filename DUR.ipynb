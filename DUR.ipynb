{
 "cells": [
  {
   "cell_type": "code",
   "execution_count": 185,
   "id": "6745c6c8",
   "metadata": {
    "collapsed": true
   },
   "outputs": [
    {
     "ename": "KeyError",
     "evalue": "\"['성분코드A', '제품코드A', '급여여부A', '성분코드B', '제품코드B', '급여여부B', '고시번호', '고시일자'] not found in axis\"",
     "output_type": "error",
     "traceback": [
      "\u001b[1;31m---------------------------------------------------------------------------\u001b[0m",
      "\u001b[1;31mKeyError\u001b[0m                                  Traceback (most recent call last)",
      "Cell \u001b[1;32mIn[185], line 4\u001b[0m\n\u001b[0;32m      1\u001b[0m \u001b[38;5;28;01mimport\u001b[39;00m \u001b[38;5;21;01mpandas\u001b[39;00m \u001b[38;5;28;01mas\u001b[39;00m \u001b[38;5;21;01mpd\u001b[39;00m\n\u001b[0;32m      3\u001b[0m data \u001b[38;5;241m=\u001b[39m pd\u001b[38;5;241m.\u001b[39mread_csv(\u001b[38;5;124m'\u001b[39m\u001b[38;5;124m./Desktop/DUR.csv\u001b[39m\u001b[38;5;124m'\u001b[39m, encoding\u001b[38;5;241m=\u001b[39m\u001b[38;5;124m'\u001b[39m\u001b[38;5;124mcp949\u001b[39m\u001b[38;5;124m'\u001b[39m,dtype\u001b[38;5;241m=\u001b[39m{\u001b[38;5;241m15\u001b[39m: \u001b[38;5;28mstr\u001b[39m})\n\u001b[1;32m----> 4\u001b[0m data \u001b[38;5;241m=\u001b[39m df\u001b[38;5;241m.\u001b[39mdrop([\u001b[38;5;124m'\u001b[39m\u001b[38;5;124m성분코드A\u001b[39m\u001b[38;5;124m'\u001b[39m,\u001b[38;5;124m'\u001b[39m\u001b[38;5;124m제품코드A\u001b[39m\u001b[38;5;124m'\u001b[39m, \u001b[38;5;124m'\u001b[39m\u001b[38;5;124m급여여부A\u001b[39m\u001b[38;5;124m'\u001b[39m,\u001b[38;5;124m'\u001b[39m\u001b[38;5;124m성분코드B\u001b[39m\u001b[38;5;124m'\u001b[39m,\u001b[38;5;124m'\u001b[39m\u001b[38;5;124m제품코드B\u001b[39m\u001b[38;5;124m'\u001b[39m,\u001b[38;5;124m'\u001b[39m\u001b[38;5;124m급여여부B\u001b[39m\u001b[38;5;124m'\u001b[39m,\u001b[38;5;124m'\u001b[39m\u001b[38;5;124m고시번호\u001b[39m\u001b[38;5;124m'\u001b[39m,\u001b[38;5;124m'\u001b[39m\u001b[38;5;124m고시일자\u001b[39m\u001b[38;5;124m'\u001b[39m], axis\u001b[38;5;241m=\u001b[39m\u001b[38;5;241m1\u001b[39m)\n",
      "File \u001b[1;32m~\\anaconda3\\Lib\\site-packages\\pandas\\core\\frame.py:5258\u001b[0m, in \u001b[0;36mDataFrame.drop\u001b[1;34m(self, labels, axis, index, columns, level, inplace, errors)\u001b[0m\n\u001b[0;32m   5110\u001b[0m \u001b[38;5;28;01mdef\u001b[39;00m \u001b[38;5;21mdrop\u001b[39m(\n\u001b[0;32m   5111\u001b[0m     \u001b[38;5;28mself\u001b[39m,\n\u001b[0;32m   5112\u001b[0m     labels: IndexLabel \u001b[38;5;241m=\u001b[39m \u001b[38;5;28;01mNone\u001b[39;00m,\n\u001b[1;32m   (...)\u001b[0m\n\u001b[0;32m   5119\u001b[0m     errors: IgnoreRaise \u001b[38;5;241m=\u001b[39m \u001b[38;5;124m\"\u001b[39m\u001b[38;5;124mraise\u001b[39m\u001b[38;5;124m\"\u001b[39m,\n\u001b[0;32m   5120\u001b[0m ) \u001b[38;5;241m-\u001b[39m\u001b[38;5;241m>\u001b[39m DataFrame \u001b[38;5;241m|\u001b[39m \u001b[38;5;28;01mNone\u001b[39;00m:\n\u001b[0;32m   5121\u001b[0m \u001b[38;5;250m    \u001b[39m\u001b[38;5;124;03m\"\"\"\u001b[39;00m\n\u001b[0;32m   5122\u001b[0m \u001b[38;5;124;03m    Drop specified labels from rows or columns.\u001b[39;00m\n\u001b[0;32m   5123\u001b[0m \n\u001b[1;32m   (...)\u001b[0m\n\u001b[0;32m   5256\u001b[0m \u001b[38;5;124;03m            weight  1.0     0.8\u001b[39;00m\n\u001b[0;32m   5257\u001b[0m \u001b[38;5;124;03m    \"\"\"\u001b[39;00m\n\u001b[1;32m-> 5258\u001b[0m     \u001b[38;5;28;01mreturn\u001b[39;00m \u001b[38;5;28msuper\u001b[39m()\u001b[38;5;241m.\u001b[39mdrop(\n\u001b[0;32m   5259\u001b[0m         labels\u001b[38;5;241m=\u001b[39mlabels,\n\u001b[0;32m   5260\u001b[0m         axis\u001b[38;5;241m=\u001b[39maxis,\n\u001b[0;32m   5261\u001b[0m         index\u001b[38;5;241m=\u001b[39mindex,\n\u001b[0;32m   5262\u001b[0m         columns\u001b[38;5;241m=\u001b[39mcolumns,\n\u001b[0;32m   5263\u001b[0m         level\u001b[38;5;241m=\u001b[39mlevel,\n\u001b[0;32m   5264\u001b[0m         inplace\u001b[38;5;241m=\u001b[39minplace,\n\u001b[0;32m   5265\u001b[0m         errors\u001b[38;5;241m=\u001b[39merrors,\n\u001b[0;32m   5266\u001b[0m     )\n",
      "File \u001b[1;32m~\\anaconda3\\Lib\\site-packages\\pandas\\core\\generic.py:4549\u001b[0m, in \u001b[0;36mNDFrame.drop\u001b[1;34m(self, labels, axis, index, columns, level, inplace, errors)\u001b[0m\n\u001b[0;32m   4547\u001b[0m \u001b[38;5;28;01mfor\u001b[39;00m axis, labels \u001b[38;5;129;01min\u001b[39;00m axes\u001b[38;5;241m.\u001b[39mitems():\n\u001b[0;32m   4548\u001b[0m     \u001b[38;5;28;01mif\u001b[39;00m labels \u001b[38;5;129;01mis\u001b[39;00m \u001b[38;5;129;01mnot\u001b[39;00m \u001b[38;5;28;01mNone\u001b[39;00m:\n\u001b[1;32m-> 4549\u001b[0m         obj \u001b[38;5;241m=\u001b[39m obj\u001b[38;5;241m.\u001b[39m_drop_axis(labels, axis, level\u001b[38;5;241m=\u001b[39mlevel, errors\u001b[38;5;241m=\u001b[39merrors)\n\u001b[0;32m   4551\u001b[0m \u001b[38;5;28;01mif\u001b[39;00m inplace:\n\u001b[0;32m   4552\u001b[0m     \u001b[38;5;28mself\u001b[39m\u001b[38;5;241m.\u001b[39m_update_inplace(obj)\n",
      "File \u001b[1;32m~\\anaconda3\\Lib\\site-packages\\pandas\\core\\generic.py:4591\u001b[0m, in \u001b[0;36mNDFrame._drop_axis\u001b[1;34m(self, labels, axis, level, errors, only_slice)\u001b[0m\n\u001b[0;32m   4589\u001b[0m         new_axis \u001b[38;5;241m=\u001b[39m axis\u001b[38;5;241m.\u001b[39mdrop(labels, level\u001b[38;5;241m=\u001b[39mlevel, errors\u001b[38;5;241m=\u001b[39merrors)\n\u001b[0;32m   4590\u001b[0m     \u001b[38;5;28;01melse\u001b[39;00m:\n\u001b[1;32m-> 4591\u001b[0m         new_axis \u001b[38;5;241m=\u001b[39m axis\u001b[38;5;241m.\u001b[39mdrop(labels, errors\u001b[38;5;241m=\u001b[39merrors)\n\u001b[0;32m   4592\u001b[0m     indexer \u001b[38;5;241m=\u001b[39m axis\u001b[38;5;241m.\u001b[39mget_indexer(new_axis)\n\u001b[0;32m   4594\u001b[0m \u001b[38;5;66;03m# Case for non-unique axis\u001b[39;00m\n\u001b[0;32m   4595\u001b[0m \u001b[38;5;28;01melse\u001b[39;00m:\n",
      "File \u001b[1;32m~\\anaconda3\\Lib\\site-packages\\pandas\\core\\indexes\\base.py:6699\u001b[0m, in \u001b[0;36mIndex.drop\u001b[1;34m(self, labels, errors)\u001b[0m\n\u001b[0;32m   6697\u001b[0m \u001b[38;5;28;01mif\u001b[39;00m mask\u001b[38;5;241m.\u001b[39many():\n\u001b[0;32m   6698\u001b[0m     \u001b[38;5;28;01mif\u001b[39;00m errors \u001b[38;5;241m!=\u001b[39m \u001b[38;5;124m\"\u001b[39m\u001b[38;5;124mignore\u001b[39m\u001b[38;5;124m\"\u001b[39m:\n\u001b[1;32m-> 6699\u001b[0m         \u001b[38;5;28;01mraise\u001b[39;00m \u001b[38;5;167;01mKeyError\u001b[39;00m(\u001b[38;5;124mf\u001b[39m\u001b[38;5;124m\"\u001b[39m\u001b[38;5;132;01m{\u001b[39;00m\u001b[38;5;28mlist\u001b[39m(labels[mask])\u001b[38;5;132;01m}\u001b[39;00m\u001b[38;5;124m not found in axis\u001b[39m\u001b[38;5;124m\"\u001b[39m)\n\u001b[0;32m   6700\u001b[0m     indexer \u001b[38;5;241m=\u001b[39m indexer[\u001b[38;5;241m~\u001b[39mmask]\n\u001b[0;32m   6701\u001b[0m \u001b[38;5;28;01mreturn\u001b[39;00m \u001b[38;5;28mself\u001b[39m\u001b[38;5;241m.\u001b[39mdelete(indexer)\n",
      "\u001b[1;31mKeyError\u001b[0m: \"['성분코드A', '제품코드A', '급여여부A', '성분코드B', '제품코드B', '급여여부B', '고시번호', '고시일자'] not found in axis\""
     ]
    }
   ],
   "source": [
    "import pandas as pd\n",
    "\n",
    "data = pd.read_csv('./Desktop/DUR.csv', encoding='cp949',dtype={15: str})\n",
    "data = data.drop(['성분코드A','제품코드A', '급여여부A','성분코드B','제품코드B','급여여부B','고시번호','고시일자'], axis=1)"
   ]
  },
  {
   "cell_type": "code",
   "execution_count": 237,
   "id": "bc23668c",
   "metadata": {},
   "outputs": [],
   "source": [
    "#사용자 복용 약 DB에서 가져오기\n",
    "medicine=['아스피린', '아스피린', '나프록센']"
   ]
  },
  {
   "cell_type": "code",
   "execution_count": 244,
   "id": "4f149dc3",
   "metadata": {},
   "outputs": [],
   "source": [
    "#대조약 조회\n",
    "#병용금기 정보\n",
    "import requests\n",
    "from urllib.parse import unquote\n",
    "\n",
    "SERVICE_KEY = \"YKH%2FsKWkIH6%2FFfZlcEhCFOL8m%2B2j2E802xPlLD2I1736c2gNNAuxZ99KawQt0XpAyBZ22o9LWQA1Piu8D1LTng%3D%3D\" \n",
    "serviceKey = unquote(SERVICE_KEY)  # 디코딩\n",
    "base_url = \"https://apis.data.go.kr/1471000/MdcCompDrugInfoService04\"\n",
    "endpoint = \"getMdcCompDrugList04\"\n",
    "\n",
    "def get_medicine_info_ingre(pill):\n",
    "    params = {\n",
    "        \"serviceKey\": serviceKey,\n",
    "        \"pageNo\": 1,\n",
    "        \"numOfRows\": 10,\n",
    "        \"type\": \"json\",\n",
    "        \"item_name\": pill,\n",
    "    }\n",
    "    url = f\"{base_url}/{endpoint}\"\n",
    "    res = requests.get(url, params=params)\n",
    "    result=res.json()\n",
    "\n",
    "    return result['body']"
   ]
  },
  {
   "cell_type": "code",
   "execution_count": 245,
   "id": "b174f448",
   "metadata": {},
   "outputs": [
    {
     "name": "stdout",
     "output_type": "stream",
     "text": [
      "['라스피린캡슐100/5밀리그램(아스피린,라베프라졸)', '보령바이오아스트릭스캡슐100밀리그램(아스피린장용과립)', '아사톱장용정81mg(아스피린)', '신풍아스피린정300밀리그람', '바이엘아스피린정500밀리그람', '바이엘아스피린정100밀리그람', '아스피린프로텍트정100밀리그람', '로날정(아스피린제피세립)', '로날정100밀리그램(아스피린제피세립)']\n",
      "이 중 어떤 약인가요?\n",
      "번호로 말해주세요3\n",
      "['라스피린캡슐100/5밀리그램(아스피린,라베프라졸)', '보령바이오아스트릭스캡슐100밀리그램(아스피린장용과립)', '아사톱장용정81mg(아스피린)', '신풍아스피린정300밀리그람', '바이엘아스피린정500밀리그람', '바이엘아스피린정100밀리그람', '아스피린프로텍트정100밀리그람', '로날정(아스피린제피세립)', '로날정100밀리그램(아스피린제피세립)']\n",
      "이 중 어떤 약인가요?\n",
      "번호로 말해주세요3\n",
      "['에이스펜연질캡슐(나프록센)', '낙센정(나프록센)', '낙센에프정(나프록센)', '낙센에프서방정1000밀리그램(나프록센)', '아나프록스캅셀(나프록센나트륨)', '아나프록스정(나프록센나트륨)']\n",
      "이 중 어떤 약인가요?\n",
      "번호로 말해주세요5\n",
      "['아스피린', '아스피린', '나프록센나트륨/소디움나프록센']\n"
     ]
    }
   ],
   "source": [
    "pill_ingre=[]\n",
    "for pill in medicine:\n",
    "    result=get_medicine_info_ingre(pill)\n",
    "    if 'items' in result:\n",
    "        selection=[item['item']['ITEM_NAME'] for item in result['items']]\n",
    "        print(selection)\n",
    "        choose=int(input(\"이 중 어떤 약인가요?\\n번호로 말해주세요\"))\n",
    "        pill_ingre.append(result['items'][choose-1]['item']['INGR_NAME'])\n",
    "    \n",
    "print(pill_ingre)"
   ]
  },
  {
   "cell_type": "code",
   "execution_count": 172,
   "id": "dc722758",
   "metadata": {
    "collapsed": true
   },
   "outputs": [
    {
     "data": {
      "text/plain": [
       "{'pageNo': 1,\n",
       " 'totalCount': 6,\n",
       " 'numOfRows': 10,\n",
       " 'items': [{'item': {'INGR_NAME': '나프록센',\n",
       "    'ITEM_NAME': '에이스펜연질캡슐(나프록센)',\n",
       "    'ENTP_NAME': '(주)알피바이오',\n",
       "    'COMP_DRUG_GB_KOR': None,\n",
       "    'SHAPE_CODE_NAME': '연질캡슐제, 액상',\n",
       "    'BIOEQ_NOTICE_DATE': '2009-01-09',\n",
       "    'BIZRNO': '3048511124',\n",
       "    'ITEM_SEQ': '200403671'}},\n",
       "  {'item': {'INGR_NAME': '나프록센',\n",
       "    'ITEM_NAME': '낙센정(나프록센)',\n",
       "    'ENTP_NAME': '(주)종근당',\n",
       "    'COMP_DRUG_GB_KOR': None,\n",
       "    'SHAPE_CODE_NAME': '나정',\n",
       "    'BIOEQ_NOTICE_DATE': '2002-11-22',\n",
       "    'BIZRNO': '3128560679',\n",
       "    'ITEM_SEQ': '197500016'}},\n",
       "  {'item': {'INGR_NAME': '나프록센',\n",
       "    'ITEM_NAME': '낙센에프정(나프록센)',\n",
       "    'ENTP_NAME': '(주)종근당',\n",
       "    'COMP_DRUG_GB_KOR': None,\n",
       "    'SHAPE_CODE_NAME': '나정',\n",
       "    'BIOEQ_NOTICE_DATE': '2002-11-22',\n",
       "    'BIZRNO': '3128560679',\n",
       "    'ITEM_SEQ': '199300208'}},\n",
       "  {'item': {'INGR_NAME': '나프록센',\n",
       "    'ITEM_NAME': '낙센에프서방정1000밀리그램(나프록센)',\n",
       "    'ENTP_NAME': '(주)종근당',\n",
       "    'COMP_DRUG_GB_KOR': None,\n",
       "    'SHAPE_CODE_NAME': '서방정',\n",
       "    'BIOEQ_NOTICE_DATE': '2002-11-22',\n",
       "    'BIZRNO': '3128560679',\n",
       "    'ITEM_SEQ': '199700166'}},\n",
       "  {'item': {'INGR_NAME': '나프록센나트륨/소디움나프록센',\n",
       "    'ITEM_NAME': '아나프록스캅셀(나프록센나트륨)',\n",
       "    'ENTP_NAME': '(주)종근당',\n",
       "    'COMP_DRUG_GB_KOR': None,\n",
       "    'SHAPE_CODE_NAME': '경질캡슐제, 산제',\n",
       "    'BIOEQ_NOTICE_DATE': '2002-11-22',\n",
       "    'BIZRNO': '3128560679',\n",
       "    'ITEM_SEQ': '197900053'}},\n",
       "  {'item': {'INGR_NAME': '나프록센나트륨',\n",
       "    'ITEM_NAME': '아나프록스정(나프록센나트륨)',\n",
       "    'ENTP_NAME': '(주)종근당',\n",
       "    'COMP_DRUG_GB_KOR': None,\n",
       "    'SHAPE_CODE_NAME': '필름코팅정',\n",
       "    'BIOEQ_NOTICE_DATE': '2002-11-22',\n",
       "    'BIZRNO': '3128560679',\n",
       "    'ITEM_SEQ': '198300064'}}]}"
      ]
     },
     "execution_count": 172,
     "metadata": {},
     "output_type": "execute_result"
    }
   ],
   "source": [
    "result"
   ]
  },
  {
   "cell_type": "code",
   "execution_count": 257,
   "id": "abf44069",
   "metadata": {},
   "outputs": [],
   "source": [
    "#병용금기 정보\n",
    "import requests\n",
    "from urllib.parse import unquote\n",
    "\n",
    "SERVICE_KEY = \"YKH%2FsKWkIH6%2FFfZlcEhCFOL8m%2B2j2E802xPlLD2I1736c2gNNAuxZ99KawQt0XpAyBZ22o9LWQA1Piu8D1LTng%3D%3D\" \n",
    "serviceKey = unquote(SERVICE_KEY)  \n",
    "base_url = \"https://apis.data.go.kr/1471000/DURIrdntInfoService03\"\n",
    "endpoint = \"getUsjntTabooInfoList02\"\n",
    "\n",
    "#INGR_CODE(주성분 코드), MIXTURE_INGR_CODE(상대 성분 코드)\n",
    "#ORI(원래 성분의 제품 목록), MIXTURE_ORI(상대 성분 제품 목록)\n",
    "#PROHBT_CONTENT(금기 이유)\n",
    "def contrain_ingre(ingredient):\n",
    "    params = {\n",
    "        \"serviceKey\": serviceKey,\n",
    "        \"pageNo\": 1,\n",
    "        \"numOfRows\": 10,\n",
    "        \"type\": \"json\",\n",
    "        \"ingrKorName\": ingredient,\n",
    "    }\n",
    "\n",
    "    url = f\"{base_url}/{endpoint}\"\n",
    "    res = requests.get(url, params=params)\n",
    "    result=res.json()\n",
    "    return result\n",
    "#result['body']"
   ]
  },
  {
   "cell_type": "code",
   "execution_count": 275,
   "id": "a3f50422",
   "metadata": {},
   "outputs": [
    {
     "name": "stdout",
     "output_type": "stream",
     "text": [
      "{('메토트렉세이트', '혈액학적 독성\\n')}\n"
     ]
    }
   ],
   "source": [
    "#병용금기 성분\n",
    "contrain_set=set()\n",
    "dupli=[]\n",
    "\n",
    "for i in pill_ingre:\n",
    "    result=contrain_ingre(i)\n",
    "    if 'items' in result['body']:\n",
    "        contrain=result['body']['items'][0]['item']['MIXTURE_INGR_KOR_NAME']\n",
    "        prohbt=result['body']['items'][0]['item']['PROHBT_CONTENT']\n",
    "        if any(c == contrain for c, _ in contrain_set):\n",
    "            dupli.append(contrain)\n",
    "        contrain_set.add((contrain,prohbt))\n",
    "\n",
    "print(contrain_set)"
   ]
  },
  {
   "cell_type": "code",
   "execution_count": 276,
   "id": "971b82c8",
   "metadata": {},
   "outputs": [
    {
     "data": {
      "text/plain": [
       "['메토트렉세이트']"
      ]
     },
     "execution_count": 276,
     "metadata": {},
     "output_type": "execute_result"
    }
   ],
   "source": [
    "dupli"
   ]
  },
  {
   "cell_type": "code",
   "execution_count": 277,
   "id": "cf478d71",
   "metadata": {},
   "outputs": [],
   "source": [
    "#위험도 지수\n",
    "cnt=len(pill_ingre)\n",
    "risk_rate=len(contrain_set)/(cnt*(cnt-1)/2) * 100"
   ]
  },
  {
   "cell_type": "code",
   "execution_count": 278,
   "id": "3cc5b2a6",
   "metadata": {},
   "outputs": [
    {
     "data": {
      "text/plain": [
       "33.33333333333333"
      ]
     },
     "execution_count": 278,
     "metadata": {},
     "output_type": "execute_result"
    }
   ],
   "source": [
    "risk_rate"
   ]
  },
  {
   "cell_type": "code",
   "execution_count": null,
   "id": "94d2f43b",
   "metadata": {},
   "outputs": [],
   "source": []
  }
 ],
 "metadata": {
  "kernelspec": {
   "display_name": "Python3",
   "language": "python",
   "name": "myenv"
  },
  "language_info": {
   "codemirror_mode": {
    "name": "ipython",
    "version": 3
   },
   "file_extension": ".py",
   "mimetype": "text/x-python",
   "name": "python",
   "nbconvert_exporter": "python",
   "pygments_lexer": "ipython3",
   "version": "3.11.5"
  }
 },
 "nbformat": 4,
 "nbformat_minor": 5
}
